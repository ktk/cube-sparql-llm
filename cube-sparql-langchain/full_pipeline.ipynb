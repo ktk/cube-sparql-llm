{
 "cells": [
  {
   "cell_type": "code",
   "execution_count": null,
   "metadata": {},
   "outputs": [],
   "source": [
    "%load_ext autoreload\n",
    "%autoreload 2"
   ]
  },
  {
   "cell_type": "code",
   "execution_count": null,
   "metadata": {},
   "outputs": [],
   "source": [
    "import os\n",
    "\n",
    "OPENAI_API_KEY = os.environ[\"OPENAI_API_KEY\"]"
   ]
  },
  {
   "cell_type": "code",
   "execution_count": null,
   "metadata": {},
   "outputs": [],
   "source": [
    "from loguru import logger\n",
    "from langchain.callbacks import FileCallbackHandler\n",
    "from datetime import date\n",
    "\n",
    "today = date.today()\n",
    "\n",
    "logfile = f\"logs/full_pipeline_{today.year}_{today.month}_{today.day}.log\"\n",
    "logger.add(logfile, format=\"{message}\", colorize=False, enqueue=True)\n",
    "handler = FileCallbackHandler(logfile)"
   ]
  },
  {
   "cell_type": "code",
   "execution_count": null,
   "metadata": {},
   "outputs": [],
   "source": [
    "from lib import create_cube_selection_chain, fetch_cubes_descriptions, parse_all_cubes, fetch_cube_sample, fetch_dimensions_triplets\n",
    "\n",
    "cube_selection_settings = {\n",
    "    \"temperature\": 0.5,\n",
    "    \"top_p\": 0.5\n",
    "}\n",
    "cubes = fetch_cubes_descriptions()\n",
    "cube_selection_chain = create_cube_selection_chain(api_key=OPENAI_API_KEY, handler=handler, **cube_selection_settings)\n",
    "\n",
    "# question = f\"sum of emission of CO2 for industry between year 2009 and 2011\"\n",
    "question = f\"get average of emission of Methane for transport between years 2007 and 2005\"\n",
    "\n",
    "cube_selection_response = await cube_selection_chain.ainvoke({\n",
    "    \"cubes\": cubes,\n",
    "    \"question\": question,\n",
    "})\n",
    "cube_selection_response = cube_selection_response['text']\n",
    "\n",
    "logger.info(\"========== CUBES RESPONSE ================\")\n",
    "logger.info(f\"{cube_selection_response}\")"
   ]
  },
  {
   "cell_type": "code",
   "execution_count": null,
   "metadata": {},
   "outputs": [],
   "source": [
    "selected_cubes = parse_all_cubes(cube_selection_response)\n",
    "selected_cube = selected_cubes[0]\n",
    "\n",
    "logger.info(\"========== SELECTED FIRST CUBE ================\")\n",
    "logger.info(selected_cube)"
   ]
  },
  {
   "cell_type": "code",
   "execution_count": null,
   "metadata": {},
   "outputs": [],
   "source": [
    "cube_and_sample = fetch_cube_sample(selected_cube)\n",
    "\n",
    "# print(cube_and_sample)"
   ]
  },
  {
   "cell_type": "code",
   "execution_count": null,
   "metadata": {},
   "outputs": [],
   "source": [
    "dimensions_triplets = fetch_dimensions_triplets(selected_cube)\n",
    "\n",
    "# print(dimenstions_triplets)"
   ]
  },
  {
   "cell_type": "code",
   "execution_count": null,
   "metadata": {},
   "outputs": [],
   "source": [
    "from lib import create_query_generation_chain\n",
    "\n",
    "query_generation_settings = {\n",
    "    \"temperature\": 0.2,\n",
    "    \"top_p\": 0.1\n",
    "}\n",
    "\n",
    "generation_chain = create_query_generation_chain(api_key=OPENAI_API_KEY, handler=handler, **query_generation_settings)\n",
    "\n",
    "query_generation_response = await generation_chain.ainvoke({\n",
    "    \"cube_and_sample\": cube_and_sample,\n",
    "    \"dimensions_triplets\": dimensions_triplets,\n",
    "    \"cube\": selected_cube,\n",
    "    \"question\": question,\n",
    "})\n",
    "query_generation_response = query_generation_response['text']\n",
    "\n",
    "logger.info(\"========== QUERY GENERATION RESPONSE ================\")\n",
    "logger.info(f\"{query_generation_response}\")"
   ]
  },
  {
   "cell_type": "code",
   "execution_count": null,
   "metadata": {},
   "outputs": [],
   "source": [
    "from lib import run_query\n",
    "\n",
    "result = run_query(query_generation_response)\n",
    "\n",
    "logger.info(\"=========== QUERY RESULT ============\")\n",
    "logger.info(result)"
   ]
  }
 ],
 "metadata": {
  "kernelspec": {
   "display_name": ".venv",
   "language": "python",
   "name": "python3"
  },
  "language_info": {
   "codemirror_mode": {
    "name": "ipython",
    "version": 3
   },
   "file_extension": ".py",
   "mimetype": "text/x-python",
   "name": "python",
   "nbconvert_exporter": "python",
   "pygments_lexer": "ipython3",
   "version": "3.10.12"
  },
  "orig_nbformat": 4
 },
 "nbformat": 4,
 "nbformat_minor": 2
}
