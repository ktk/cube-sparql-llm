{
 "cells": [
  {
   "cell_type": "code",
   "execution_count": 4,
   "metadata": {},
   "outputs": [
    {
     "name": "stdout",
     "output_type": "stream",
     "text": [
      "The autoreload extension is already loaded. To reload it, use:\n",
      "  %reload_ext autoreload\n"
     ]
    }
   ],
   "source": [
    "%load_ext autoreload\n",
    "%autoreload 2"
   ]
  },
  {
   "cell_type": "code",
   "execution_count": 1,
   "metadata": {},
   "outputs": [],
   "source": [
    "import os\n",
    "from dotenv import load_dotenv\n",
    "\n",
    "load_dotenv()\n",
    "\n",
    "OPENAI_API_KEY = os.getenv('OPENAI_API_KEY')"
   ]
  },
  {
   "cell_type": "code",
   "execution_count": 2,
   "metadata": {},
   "outputs": [],
   "source": [
    "from loguru import logger\n",
    "from langchain.callbacks import FileCallbackHandler\n",
    "from datetime import date\n",
    "\n",
    "today = date.today()\n",
    "\n",
    "logfile = f\"logs/full_pipeline_{today.year}_{today.month}_{today.day}.log\"\n",
    "logger.add(logfile, format=\"{message}\", colorize=False, enqueue=True)\n",
    "handler = FileCallbackHandler(logfile)"
   ]
  },
  {
   "cell_type": "code",
   "execution_count": 7,
   "metadata": {},
   "outputs": [
    {
     "name": "stderr",
     "output_type": "stream",
     "text": [
      "WARNING! top_p is not default parameter.\n",
      "                    top_p was transferred to model_kwargs.\n",
      "                    Please confirm that top_p is what you intended.\n"
     ]
    }
   ],
   "source": [
    "from langchain.chat_models import ChatOpenAI\n",
    "cube_selection_model = ChatOpenAI(openai_api_key=OPENAI_API_KEY, model=\"gpt-3.5-turbo-16k\", temperature=0.5, top_p=0.5, model_kwargs={\n",
    "     \"response_format\": {\n",
    "      type: \"json_object\"\n",
    "     }\n",
    "   })"
   ]
  },
  {
   "cell_type": "code",
   "execution_count": 8,
   "metadata": {},
   "outputs": [
    {
     "ename": "TypeError",
     "evalue": "keys must be str, int, float, bool or None, not type",
     "output_type": "error",
     "traceback": [
      "\u001b[0;31m---------------------------------------------------------------------------\u001b[0m",
      "\u001b[0;31mTypeError\u001b[0m                                 Traceback (most recent call last)",
      "Cell \u001b[0;32mIn[8], line 1\u001b[0m\n\u001b[0;32m----> 1\u001b[0m \u001b[38;5;28;01mawait\u001b[39;00m cube_selection_chain\u001b[38;5;241m.\u001b[39mainvoke({\n\u001b[1;32m      2\u001b[0m     \u001b[38;5;124m\"\u001b[39m\u001b[38;5;124mcubes\u001b[39m\u001b[38;5;124m\"\u001b[39m: cubes, \n\u001b[1;32m      3\u001b[0m     \u001b[38;5;124m\"\u001b[39m\u001b[38;5;124mquestion\u001b[39m\u001b[38;5;124m\"\u001b[39m: question,\n\u001b[1;32m      4\u001b[0m })\n",
      "File \u001b[0;32m~/zazuko/cube-sparql-llm/venv/lib/python3.10/site-packages/langchain/chains/base.py:108\u001b[0m, in \u001b[0;36mChain.ainvoke\u001b[0;34m(self, input, config, **kwargs)\u001b[0m\n\u001b[1;32m    103\u001b[0m     \u001b[38;5;28;01mreturn\u001b[39;00m \u001b[38;5;28;01mawait\u001b[39;00m asyncio\u001b[38;5;241m.\u001b[39mget_running_loop()\u001b[38;5;241m.\u001b[39mrun_in_executor(\n\u001b[1;32m    104\u001b[0m         \u001b[38;5;28;01mNone\u001b[39;00m, partial(\u001b[38;5;28mself\u001b[39m\u001b[38;5;241m.\u001b[39minvoke, \u001b[38;5;28minput\u001b[39m, config, \u001b[38;5;241m*\u001b[39m\u001b[38;5;241m*\u001b[39mkwargs)\n\u001b[1;32m    105\u001b[0m     )\n\u001b[1;32m    107\u001b[0m config \u001b[38;5;241m=\u001b[39m config \u001b[38;5;129;01mor\u001b[39;00m {}\n\u001b[0;32m--> 108\u001b[0m \u001b[38;5;28;01mreturn\u001b[39;00m \u001b[38;5;28;01mawait\u001b[39;00m \u001b[38;5;28mself\u001b[39m\u001b[38;5;241m.\u001b[39macall(\n\u001b[1;32m    109\u001b[0m     \u001b[38;5;28minput\u001b[39m,\n\u001b[1;32m    110\u001b[0m     callbacks\u001b[38;5;241m=\u001b[39mconfig\u001b[38;5;241m.\u001b[39mget(\u001b[38;5;124m\"\u001b[39m\u001b[38;5;124mcallbacks\u001b[39m\u001b[38;5;124m\"\u001b[39m),\n\u001b[1;32m    111\u001b[0m     tags\u001b[38;5;241m=\u001b[39mconfig\u001b[38;5;241m.\u001b[39mget(\u001b[38;5;124m\"\u001b[39m\u001b[38;5;124mtags\u001b[39m\u001b[38;5;124m\"\u001b[39m),\n\u001b[1;32m    112\u001b[0m     metadata\u001b[38;5;241m=\u001b[39mconfig\u001b[38;5;241m.\u001b[39mget(\u001b[38;5;124m\"\u001b[39m\u001b[38;5;124mmetadata\u001b[39m\u001b[38;5;124m\"\u001b[39m),\n\u001b[1;32m    113\u001b[0m     run_name\u001b[38;5;241m=\u001b[39mconfig\u001b[38;5;241m.\u001b[39mget(\u001b[38;5;124m\"\u001b[39m\u001b[38;5;124mrun_name\u001b[39m\u001b[38;5;124m\"\u001b[39m),\n\u001b[1;32m    114\u001b[0m     \u001b[38;5;241m*\u001b[39m\u001b[38;5;241m*\u001b[39mkwargs,\n\u001b[1;32m    115\u001b[0m )\n",
      "File \u001b[0;32m~/zazuko/cube-sparql-llm/venv/lib/python3.10/site-packages/langchain/chains/base.py:369\u001b[0m, in \u001b[0;36mChain.acall\u001b[0;34m(self, inputs, return_only_outputs, callbacks, tags, metadata, run_name, include_run_info)\u001b[0m\n\u001b[1;32m    358\u001b[0m callback_manager \u001b[38;5;241m=\u001b[39m AsyncCallbackManager\u001b[38;5;241m.\u001b[39mconfigure(\n\u001b[1;32m    359\u001b[0m     callbacks,\n\u001b[1;32m    360\u001b[0m     \u001b[38;5;28mself\u001b[39m\u001b[38;5;241m.\u001b[39mcallbacks,\n\u001b[0;32m   (...)\u001b[0m\n\u001b[1;32m    365\u001b[0m     \u001b[38;5;28mself\u001b[39m\u001b[38;5;241m.\u001b[39mmetadata,\n\u001b[1;32m    366\u001b[0m )\n\u001b[1;32m    367\u001b[0m new_arg_supported \u001b[38;5;241m=\u001b[39m inspect\u001b[38;5;241m.\u001b[39msignature(\u001b[38;5;28mself\u001b[39m\u001b[38;5;241m.\u001b[39m_acall)\u001b[38;5;241m.\u001b[39mparameters\u001b[38;5;241m.\u001b[39mget(\u001b[38;5;124m\"\u001b[39m\u001b[38;5;124mrun_manager\u001b[39m\u001b[38;5;124m\"\u001b[39m)\n\u001b[1;32m    368\u001b[0m run_manager \u001b[38;5;241m=\u001b[39m \u001b[38;5;28;01mawait\u001b[39;00m callback_manager\u001b[38;5;241m.\u001b[39mon_chain_start(\n\u001b[0;32m--> 369\u001b[0m     \u001b[43mdumpd\u001b[49m\u001b[43m(\u001b[49m\u001b[38;5;28;43mself\u001b[39;49m\u001b[43m)\u001b[49m,\n\u001b[1;32m    370\u001b[0m     inputs,\n\u001b[1;32m    371\u001b[0m     name\u001b[38;5;241m=\u001b[39mrun_name,\n\u001b[1;32m    372\u001b[0m )\n\u001b[1;32m    373\u001b[0m \u001b[38;5;28;01mtry\u001b[39;00m:\n\u001b[1;32m    374\u001b[0m     outputs \u001b[38;5;241m=\u001b[39m (\n\u001b[1;32m    375\u001b[0m         \u001b[38;5;28;01mawait\u001b[39;00m \u001b[38;5;28mself\u001b[39m\u001b[38;5;241m.\u001b[39m_acall(inputs, run_manager\u001b[38;5;241m=\u001b[39mrun_manager)\n\u001b[1;32m    376\u001b[0m         \u001b[38;5;28;01mif\u001b[39;00m new_arg_supported\n\u001b[1;32m    377\u001b[0m         \u001b[38;5;28;01melse\u001b[39;00m \u001b[38;5;28;01mawait\u001b[39;00m \u001b[38;5;28mself\u001b[39m\u001b[38;5;241m.\u001b[39m_acall(inputs)\n\u001b[1;32m    378\u001b[0m     )\n",
      "File \u001b[0;32m~/zazuko/cube-sparql-llm/venv/lib/python3.10/site-packages/langchain/load/dump.py:26\u001b[0m, in \u001b[0;36mdumpd\u001b[0;34m(obj)\u001b[0m\n\u001b[1;32m     24\u001b[0m \u001b[38;5;28;01mdef\u001b[39;00m \u001b[38;5;21mdumpd\u001b[39m(obj: Any) \u001b[38;5;241m-\u001b[39m\u001b[38;5;241m>\u001b[39m Dict[\u001b[38;5;28mstr\u001b[39m, Any]:\n\u001b[1;32m     25\u001b[0m \u001b[38;5;250m    \u001b[39m\u001b[38;5;124;03m\"\"\"Return a json dict representation of an object.\"\"\"\u001b[39;00m\n\u001b[0;32m---> 26\u001b[0m     \u001b[38;5;28;01mreturn\u001b[39;00m json\u001b[38;5;241m.\u001b[39mloads(\u001b[43mdumps\u001b[49m\u001b[43m(\u001b[49m\u001b[43mobj\u001b[49m\u001b[43m)\u001b[49m)\n",
      "File \u001b[0;32m~/zazuko/cube-sparql-llm/venv/lib/python3.10/site-packages/langchain/load/dump.py:21\u001b[0m, in \u001b[0;36mdumps\u001b[0;34m(obj, pretty)\u001b[0m\n\u001b[1;32m     19\u001b[0m     \u001b[38;5;28;01mreturn\u001b[39;00m json\u001b[38;5;241m.\u001b[39mdumps(obj, default\u001b[38;5;241m=\u001b[39mdefault, indent\u001b[38;5;241m=\u001b[39m\u001b[38;5;241m2\u001b[39m)\n\u001b[1;32m     20\u001b[0m \u001b[38;5;28;01melse\u001b[39;00m:\n\u001b[0;32m---> 21\u001b[0m     \u001b[38;5;28;01mreturn\u001b[39;00m \u001b[43mjson\u001b[49m\u001b[38;5;241;43m.\u001b[39;49m\u001b[43mdumps\u001b[49m\u001b[43m(\u001b[49m\u001b[43mobj\u001b[49m\u001b[43m,\u001b[49m\u001b[43m \u001b[49m\u001b[43mdefault\u001b[49m\u001b[38;5;241;43m=\u001b[39;49m\u001b[43mdefault\u001b[49m\u001b[43m)\u001b[49m\n",
      "File \u001b[0;32m~/.pyenv/versions/3.10.6/lib/python3.10/json/__init__.py:238\u001b[0m, in \u001b[0;36mdumps\u001b[0;34m(obj, skipkeys, ensure_ascii, check_circular, allow_nan, cls, indent, separators, default, sort_keys, **kw)\u001b[0m\n\u001b[1;32m    232\u001b[0m \u001b[38;5;28;01mif\u001b[39;00m \u001b[38;5;28mcls\u001b[39m \u001b[38;5;129;01mis\u001b[39;00m \u001b[38;5;28;01mNone\u001b[39;00m:\n\u001b[1;32m    233\u001b[0m     \u001b[38;5;28mcls\u001b[39m \u001b[38;5;241m=\u001b[39m JSONEncoder\n\u001b[1;32m    234\u001b[0m \u001b[38;5;28;01mreturn\u001b[39;00m \u001b[38;5;28;43mcls\u001b[39;49m\u001b[43m(\u001b[49m\n\u001b[1;32m    235\u001b[0m \u001b[43m    \u001b[49m\u001b[43mskipkeys\u001b[49m\u001b[38;5;241;43m=\u001b[39;49m\u001b[43mskipkeys\u001b[49m\u001b[43m,\u001b[49m\u001b[43m \u001b[49m\u001b[43mensure_ascii\u001b[49m\u001b[38;5;241;43m=\u001b[39;49m\u001b[43mensure_ascii\u001b[49m\u001b[43m,\u001b[49m\n\u001b[1;32m    236\u001b[0m \u001b[43m    \u001b[49m\u001b[43mcheck_circular\u001b[49m\u001b[38;5;241;43m=\u001b[39;49m\u001b[43mcheck_circular\u001b[49m\u001b[43m,\u001b[49m\u001b[43m \u001b[49m\u001b[43mallow_nan\u001b[49m\u001b[38;5;241;43m=\u001b[39;49m\u001b[43mallow_nan\u001b[49m\u001b[43m,\u001b[49m\u001b[43m \u001b[49m\u001b[43mindent\u001b[49m\u001b[38;5;241;43m=\u001b[39;49m\u001b[43mindent\u001b[49m\u001b[43m,\u001b[49m\n\u001b[1;32m    237\u001b[0m \u001b[43m    \u001b[49m\u001b[43mseparators\u001b[49m\u001b[38;5;241;43m=\u001b[39;49m\u001b[43mseparators\u001b[49m\u001b[43m,\u001b[49m\u001b[43m \u001b[49m\u001b[43mdefault\u001b[49m\u001b[38;5;241;43m=\u001b[39;49m\u001b[43mdefault\u001b[49m\u001b[43m,\u001b[49m\u001b[43m \u001b[49m\u001b[43msort_keys\u001b[49m\u001b[38;5;241;43m=\u001b[39;49m\u001b[43msort_keys\u001b[49m\u001b[43m,\u001b[49m\n\u001b[0;32m--> 238\u001b[0m \u001b[43m    \u001b[49m\u001b[38;5;241;43m*\u001b[39;49m\u001b[38;5;241;43m*\u001b[39;49m\u001b[43mkw\u001b[49m\u001b[43m)\u001b[49m\u001b[38;5;241;43m.\u001b[39;49m\u001b[43mencode\u001b[49m\u001b[43m(\u001b[49m\u001b[43mobj\u001b[49m\u001b[43m)\u001b[49m\n",
      "File \u001b[0;32m~/.pyenv/versions/3.10.6/lib/python3.10/json/encoder.py:199\u001b[0m, in \u001b[0;36mJSONEncoder.encode\u001b[0;34m(self, o)\u001b[0m\n\u001b[1;32m    195\u001b[0m         \u001b[38;5;28;01mreturn\u001b[39;00m encode_basestring(o)\n\u001b[1;32m    196\u001b[0m \u001b[38;5;66;03m# This doesn't pass the iterator directly to ''.join() because the\u001b[39;00m\n\u001b[1;32m    197\u001b[0m \u001b[38;5;66;03m# exceptions aren't as detailed.  The list call should be roughly\u001b[39;00m\n\u001b[1;32m    198\u001b[0m \u001b[38;5;66;03m# equivalent to the PySequence_Fast that ''.join() would do.\u001b[39;00m\n\u001b[0;32m--> 199\u001b[0m chunks \u001b[38;5;241m=\u001b[39m \u001b[38;5;28;43mself\u001b[39;49m\u001b[38;5;241;43m.\u001b[39;49m\u001b[43miterencode\u001b[49m\u001b[43m(\u001b[49m\u001b[43mo\u001b[49m\u001b[43m,\u001b[49m\u001b[43m \u001b[49m\u001b[43m_one_shot\u001b[49m\u001b[38;5;241;43m=\u001b[39;49m\u001b[38;5;28;43;01mTrue\u001b[39;49;00m\u001b[43m)\u001b[49m\n\u001b[1;32m    200\u001b[0m \u001b[38;5;28;01mif\u001b[39;00m \u001b[38;5;129;01mnot\u001b[39;00m \u001b[38;5;28misinstance\u001b[39m(chunks, (\u001b[38;5;28mlist\u001b[39m, \u001b[38;5;28mtuple\u001b[39m)):\n\u001b[1;32m    201\u001b[0m     chunks \u001b[38;5;241m=\u001b[39m \u001b[38;5;28mlist\u001b[39m(chunks)\n",
      "File \u001b[0;32m~/.pyenv/versions/3.10.6/lib/python3.10/json/encoder.py:257\u001b[0m, in \u001b[0;36mJSONEncoder.iterencode\u001b[0;34m(self, o, _one_shot)\u001b[0m\n\u001b[1;32m    252\u001b[0m \u001b[38;5;28;01melse\u001b[39;00m:\n\u001b[1;32m    253\u001b[0m     _iterencode \u001b[38;5;241m=\u001b[39m _make_iterencode(\n\u001b[1;32m    254\u001b[0m         markers, \u001b[38;5;28mself\u001b[39m\u001b[38;5;241m.\u001b[39mdefault, _encoder, \u001b[38;5;28mself\u001b[39m\u001b[38;5;241m.\u001b[39mindent, floatstr,\n\u001b[1;32m    255\u001b[0m         \u001b[38;5;28mself\u001b[39m\u001b[38;5;241m.\u001b[39mkey_separator, \u001b[38;5;28mself\u001b[39m\u001b[38;5;241m.\u001b[39mitem_separator, \u001b[38;5;28mself\u001b[39m\u001b[38;5;241m.\u001b[39msort_keys,\n\u001b[1;32m    256\u001b[0m         \u001b[38;5;28mself\u001b[39m\u001b[38;5;241m.\u001b[39mskipkeys, _one_shot)\n\u001b[0;32m--> 257\u001b[0m \u001b[38;5;28;01mreturn\u001b[39;00m \u001b[43m_iterencode\u001b[49m\u001b[43m(\u001b[49m\u001b[43mo\u001b[49m\u001b[43m,\u001b[49m\u001b[43m \u001b[49m\u001b[38;5;241;43m0\u001b[39;49m\u001b[43m)\u001b[49m\n",
      "\u001b[0;31mTypeError\u001b[0m: keys must be str, int, float, bool or None, not type"
     ]
    }
   ],
   "source": [
    "await cube_selection_chain.ainvoke({\n",
    "    \"cubes\": cubes,\n",
    "    \"question\": question,\n",
    "})"
   ]
  },
  {
   "cell_type": "code",
   "execution_count": 7,
   "metadata": {},
   "outputs": [
    {
     "name": "stderr",
     "output_type": "stream",
     "text": [
      "WARNING! top_p is not default parameter.\n",
      "                    top_p was transferred to model_kwargs.\n",
      "                    Please confirm that top_p is what you intended.\n"
     ]
    },
    {
     "ename": "TypeError",
     "evalue": "keys must be str, int, float, bool or None, not type",
     "output_type": "error",
     "traceback": [
      "\u001b[0;31m---------------------------------------------------------------------------\u001b[0m",
      "\u001b[0;31mTypeError\u001b[0m                                 Traceback (most recent call last)",
      "Cell \u001b[0;32mIn[7], line 13\u001b[0m\n\u001b[1;32m     10\u001b[0m \u001b[38;5;66;03m# question = f\"sum of emission of CO2 for industry between year 2009 and 2011\"\u001b[39;00m\n\u001b[1;32m     11\u001b[0m question \u001b[38;5;241m=\u001b[39m \u001b[38;5;124mf\u001b[39m\u001b[38;5;124m\"\u001b[39m\u001b[38;5;124maverage of emission of Methane for transport between years 2007 and 2005\u001b[39m\u001b[38;5;124m\"\u001b[39m\n\u001b[0;32m---> 13\u001b[0m cube_selection_response1 \u001b[38;5;241m=\u001b[39m \u001b[38;5;28;01mawait\u001b[39;00m cube_selection_chain\u001b[38;5;241m.\u001b[39mainvoke({\n\u001b[1;32m     14\u001b[0m     \u001b[38;5;124m\"\u001b[39m\u001b[38;5;124mcubes\u001b[39m\u001b[38;5;124m\"\u001b[39m: cubes, \n\u001b[1;32m     15\u001b[0m     \u001b[38;5;124m\"\u001b[39m\u001b[38;5;124mquestion\u001b[39m\u001b[38;5;124m\"\u001b[39m: question,\n\u001b[1;32m     16\u001b[0m })\n\u001b[1;32m     17\u001b[0m cube_selection_response \u001b[38;5;241m=\u001b[39m cube_selection_response1[\u001b[38;5;124m'\u001b[39m\u001b[38;5;124mtext\u001b[39m\u001b[38;5;124m'\u001b[39m]\n\u001b[1;32m     19\u001b[0m logger\u001b[38;5;241m.\u001b[39minfo(\u001b[38;5;124m\"\u001b[39m\u001b[38;5;124m========== CUBES RESPONSE ================\u001b[39m\u001b[38;5;124m\"\u001b[39m)\n",
      "File \u001b[0;32m~/zazuko/cube-sparql-llm/venv/lib/python3.10/site-packages/langchain/chains/base.py:108\u001b[0m, in \u001b[0;36mChain.ainvoke\u001b[0;34m(self, input, config, **kwargs)\u001b[0m\n\u001b[1;32m    103\u001b[0m     \u001b[38;5;28;01mreturn\u001b[39;00m \u001b[38;5;28;01mawait\u001b[39;00m asyncio\u001b[38;5;241m.\u001b[39mget_running_loop()\u001b[38;5;241m.\u001b[39mrun_in_executor(\n\u001b[1;32m    104\u001b[0m         \u001b[38;5;28;01mNone\u001b[39;00m, partial(\u001b[38;5;28mself\u001b[39m\u001b[38;5;241m.\u001b[39minvoke, \u001b[38;5;28minput\u001b[39m, config, \u001b[38;5;241m*\u001b[39m\u001b[38;5;241m*\u001b[39mkwargs)\n\u001b[1;32m    105\u001b[0m     )\n\u001b[1;32m    107\u001b[0m config \u001b[38;5;241m=\u001b[39m config \u001b[38;5;129;01mor\u001b[39;00m {}\n\u001b[0;32m--> 108\u001b[0m \u001b[38;5;28;01mreturn\u001b[39;00m \u001b[38;5;28;01mawait\u001b[39;00m \u001b[38;5;28mself\u001b[39m\u001b[38;5;241m.\u001b[39macall(\n\u001b[1;32m    109\u001b[0m     \u001b[38;5;28minput\u001b[39m,\n\u001b[1;32m    110\u001b[0m     callbacks\u001b[38;5;241m=\u001b[39mconfig\u001b[38;5;241m.\u001b[39mget(\u001b[38;5;124m\"\u001b[39m\u001b[38;5;124mcallbacks\u001b[39m\u001b[38;5;124m\"\u001b[39m),\n\u001b[1;32m    111\u001b[0m     tags\u001b[38;5;241m=\u001b[39mconfig\u001b[38;5;241m.\u001b[39mget(\u001b[38;5;124m\"\u001b[39m\u001b[38;5;124mtags\u001b[39m\u001b[38;5;124m\"\u001b[39m),\n\u001b[1;32m    112\u001b[0m     metadata\u001b[38;5;241m=\u001b[39mconfig\u001b[38;5;241m.\u001b[39mget(\u001b[38;5;124m\"\u001b[39m\u001b[38;5;124mmetadata\u001b[39m\u001b[38;5;124m\"\u001b[39m),\n\u001b[1;32m    113\u001b[0m     run_name\u001b[38;5;241m=\u001b[39mconfig\u001b[38;5;241m.\u001b[39mget(\u001b[38;5;124m\"\u001b[39m\u001b[38;5;124mrun_name\u001b[39m\u001b[38;5;124m\"\u001b[39m),\n\u001b[1;32m    114\u001b[0m     \u001b[38;5;241m*\u001b[39m\u001b[38;5;241m*\u001b[39mkwargs,\n\u001b[1;32m    115\u001b[0m )\n",
      "File \u001b[0;32m~/zazuko/cube-sparql-llm/venv/lib/python3.10/site-packages/langchain/chains/base.py:369\u001b[0m, in \u001b[0;36mChain.acall\u001b[0;34m(self, inputs, return_only_outputs, callbacks, tags, metadata, run_name, include_run_info)\u001b[0m\n\u001b[1;32m    358\u001b[0m callback_manager \u001b[38;5;241m=\u001b[39m AsyncCallbackManager\u001b[38;5;241m.\u001b[39mconfigure(\n\u001b[1;32m    359\u001b[0m     callbacks,\n\u001b[1;32m    360\u001b[0m     \u001b[38;5;28mself\u001b[39m\u001b[38;5;241m.\u001b[39mcallbacks,\n\u001b[0;32m   (...)\u001b[0m\n\u001b[1;32m    365\u001b[0m     \u001b[38;5;28mself\u001b[39m\u001b[38;5;241m.\u001b[39mmetadata,\n\u001b[1;32m    366\u001b[0m )\n\u001b[1;32m    367\u001b[0m new_arg_supported \u001b[38;5;241m=\u001b[39m inspect\u001b[38;5;241m.\u001b[39msignature(\u001b[38;5;28mself\u001b[39m\u001b[38;5;241m.\u001b[39m_acall)\u001b[38;5;241m.\u001b[39mparameters\u001b[38;5;241m.\u001b[39mget(\u001b[38;5;124m\"\u001b[39m\u001b[38;5;124mrun_manager\u001b[39m\u001b[38;5;124m\"\u001b[39m)\n\u001b[1;32m    368\u001b[0m run_manager \u001b[38;5;241m=\u001b[39m \u001b[38;5;28;01mawait\u001b[39;00m callback_manager\u001b[38;5;241m.\u001b[39mon_chain_start(\n\u001b[0;32m--> 369\u001b[0m     \u001b[43mdumpd\u001b[49m\u001b[43m(\u001b[49m\u001b[38;5;28;43mself\u001b[39;49m\u001b[43m)\u001b[49m,\n\u001b[1;32m    370\u001b[0m     inputs,\n\u001b[1;32m    371\u001b[0m     name\u001b[38;5;241m=\u001b[39mrun_name,\n\u001b[1;32m    372\u001b[0m )\n\u001b[1;32m    373\u001b[0m \u001b[38;5;28;01mtry\u001b[39;00m:\n\u001b[1;32m    374\u001b[0m     outputs \u001b[38;5;241m=\u001b[39m (\n\u001b[1;32m    375\u001b[0m         \u001b[38;5;28;01mawait\u001b[39;00m \u001b[38;5;28mself\u001b[39m\u001b[38;5;241m.\u001b[39m_acall(inputs, run_manager\u001b[38;5;241m=\u001b[39mrun_manager)\n\u001b[1;32m    376\u001b[0m         \u001b[38;5;28;01mif\u001b[39;00m new_arg_supported\n\u001b[1;32m    377\u001b[0m         \u001b[38;5;28;01melse\u001b[39;00m \u001b[38;5;28;01mawait\u001b[39;00m \u001b[38;5;28mself\u001b[39m\u001b[38;5;241m.\u001b[39m_acall(inputs)\n\u001b[1;32m    378\u001b[0m     )\n",
      "File \u001b[0;32m~/zazuko/cube-sparql-llm/venv/lib/python3.10/site-packages/langchain/load/dump.py:26\u001b[0m, in \u001b[0;36mdumpd\u001b[0;34m(obj)\u001b[0m\n\u001b[1;32m     24\u001b[0m \u001b[38;5;28;01mdef\u001b[39;00m \u001b[38;5;21mdumpd\u001b[39m(obj: Any) \u001b[38;5;241m-\u001b[39m\u001b[38;5;241m>\u001b[39m Dict[\u001b[38;5;28mstr\u001b[39m, Any]:\n\u001b[1;32m     25\u001b[0m \u001b[38;5;250m    \u001b[39m\u001b[38;5;124;03m\"\"\"Return a json dict representation of an object.\"\"\"\u001b[39;00m\n\u001b[0;32m---> 26\u001b[0m     \u001b[38;5;28;01mreturn\u001b[39;00m json\u001b[38;5;241m.\u001b[39mloads(\u001b[43mdumps\u001b[49m\u001b[43m(\u001b[49m\u001b[43mobj\u001b[49m\u001b[43m)\u001b[49m)\n",
      "File \u001b[0;32m~/zazuko/cube-sparql-llm/venv/lib/python3.10/site-packages/langchain/load/dump.py:21\u001b[0m, in \u001b[0;36mdumps\u001b[0;34m(obj, pretty)\u001b[0m\n\u001b[1;32m     19\u001b[0m     \u001b[38;5;28;01mreturn\u001b[39;00m json\u001b[38;5;241m.\u001b[39mdumps(obj, default\u001b[38;5;241m=\u001b[39mdefault, indent\u001b[38;5;241m=\u001b[39m\u001b[38;5;241m2\u001b[39m)\n\u001b[1;32m     20\u001b[0m \u001b[38;5;28;01melse\u001b[39;00m:\n\u001b[0;32m---> 21\u001b[0m     \u001b[38;5;28;01mreturn\u001b[39;00m \u001b[43mjson\u001b[49m\u001b[38;5;241;43m.\u001b[39;49m\u001b[43mdumps\u001b[49m\u001b[43m(\u001b[49m\u001b[43mobj\u001b[49m\u001b[43m,\u001b[49m\u001b[43m \u001b[49m\u001b[43mdefault\u001b[49m\u001b[38;5;241;43m=\u001b[39;49m\u001b[43mdefault\u001b[49m\u001b[43m)\u001b[49m\n",
      "File \u001b[0;32m~/.pyenv/versions/3.10.6/lib/python3.10/json/__init__.py:238\u001b[0m, in \u001b[0;36mdumps\u001b[0;34m(obj, skipkeys, ensure_ascii, check_circular, allow_nan, cls, indent, separators, default, sort_keys, **kw)\u001b[0m\n\u001b[1;32m    232\u001b[0m \u001b[38;5;28;01mif\u001b[39;00m \u001b[38;5;28mcls\u001b[39m \u001b[38;5;129;01mis\u001b[39;00m \u001b[38;5;28;01mNone\u001b[39;00m:\n\u001b[1;32m    233\u001b[0m     \u001b[38;5;28mcls\u001b[39m \u001b[38;5;241m=\u001b[39m JSONEncoder\n\u001b[1;32m    234\u001b[0m \u001b[38;5;28;01mreturn\u001b[39;00m \u001b[38;5;28;43mcls\u001b[39;49m\u001b[43m(\u001b[49m\n\u001b[1;32m    235\u001b[0m \u001b[43m    \u001b[49m\u001b[43mskipkeys\u001b[49m\u001b[38;5;241;43m=\u001b[39;49m\u001b[43mskipkeys\u001b[49m\u001b[43m,\u001b[49m\u001b[43m \u001b[49m\u001b[43mensure_ascii\u001b[49m\u001b[38;5;241;43m=\u001b[39;49m\u001b[43mensure_ascii\u001b[49m\u001b[43m,\u001b[49m\n\u001b[1;32m    236\u001b[0m \u001b[43m    \u001b[49m\u001b[43mcheck_circular\u001b[49m\u001b[38;5;241;43m=\u001b[39;49m\u001b[43mcheck_circular\u001b[49m\u001b[43m,\u001b[49m\u001b[43m \u001b[49m\u001b[43mallow_nan\u001b[49m\u001b[38;5;241;43m=\u001b[39;49m\u001b[43mallow_nan\u001b[49m\u001b[43m,\u001b[49m\u001b[43m \u001b[49m\u001b[43mindent\u001b[49m\u001b[38;5;241;43m=\u001b[39;49m\u001b[43mindent\u001b[49m\u001b[43m,\u001b[49m\n\u001b[1;32m    237\u001b[0m \u001b[43m    \u001b[49m\u001b[43mseparators\u001b[49m\u001b[38;5;241;43m=\u001b[39;49m\u001b[43mseparators\u001b[49m\u001b[43m,\u001b[49m\u001b[43m \u001b[49m\u001b[43mdefault\u001b[49m\u001b[38;5;241;43m=\u001b[39;49m\u001b[43mdefault\u001b[49m\u001b[43m,\u001b[49m\u001b[43m \u001b[49m\u001b[43msort_keys\u001b[49m\u001b[38;5;241;43m=\u001b[39;49m\u001b[43msort_keys\u001b[49m\u001b[43m,\u001b[49m\n\u001b[0;32m--> 238\u001b[0m \u001b[43m    \u001b[49m\u001b[38;5;241;43m*\u001b[39;49m\u001b[38;5;241;43m*\u001b[39;49m\u001b[43mkw\u001b[49m\u001b[43m)\u001b[49m\u001b[38;5;241;43m.\u001b[39;49m\u001b[43mencode\u001b[49m\u001b[43m(\u001b[49m\u001b[43mobj\u001b[49m\u001b[43m)\u001b[49m\n",
      "File \u001b[0;32m~/.pyenv/versions/3.10.6/lib/python3.10/json/encoder.py:199\u001b[0m, in \u001b[0;36mJSONEncoder.encode\u001b[0;34m(self, o)\u001b[0m\n\u001b[1;32m    195\u001b[0m         \u001b[38;5;28;01mreturn\u001b[39;00m encode_basestring(o)\n\u001b[1;32m    196\u001b[0m \u001b[38;5;66;03m# This doesn't pass the iterator directly to ''.join() because the\u001b[39;00m\n\u001b[1;32m    197\u001b[0m \u001b[38;5;66;03m# exceptions aren't as detailed.  The list call should be roughly\u001b[39;00m\n\u001b[1;32m    198\u001b[0m \u001b[38;5;66;03m# equivalent to the PySequence_Fast that ''.join() would do.\u001b[39;00m\n\u001b[0;32m--> 199\u001b[0m chunks \u001b[38;5;241m=\u001b[39m \u001b[38;5;28;43mself\u001b[39;49m\u001b[38;5;241;43m.\u001b[39;49m\u001b[43miterencode\u001b[49m\u001b[43m(\u001b[49m\u001b[43mo\u001b[49m\u001b[43m,\u001b[49m\u001b[43m \u001b[49m\u001b[43m_one_shot\u001b[49m\u001b[38;5;241;43m=\u001b[39;49m\u001b[38;5;28;43;01mTrue\u001b[39;49;00m\u001b[43m)\u001b[49m\n\u001b[1;32m    200\u001b[0m \u001b[38;5;28;01mif\u001b[39;00m \u001b[38;5;129;01mnot\u001b[39;00m \u001b[38;5;28misinstance\u001b[39m(chunks, (\u001b[38;5;28mlist\u001b[39m, \u001b[38;5;28mtuple\u001b[39m)):\n\u001b[1;32m    201\u001b[0m     chunks \u001b[38;5;241m=\u001b[39m \u001b[38;5;28mlist\u001b[39m(chunks)\n",
      "File \u001b[0;32m~/.pyenv/versions/3.10.6/lib/python3.10/json/encoder.py:257\u001b[0m, in \u001b[0;36mJSONEncoder.iterencode\u001b[0;34m(self, o, _one_shot)\u001b[0m\n\u001b[1;32m    252\u001b[0m \u001b[38;5;28;01melse\u001b[39;00m:\n\u001b[1;32m    253\u001b[0m     _iterencode \u001b[38;5;241m=\u001b[39m _make_iterencode(\n\u001b[1;32m    254\u001b[0m         markers, \u001b[38;5;28mself\u001b[39m\u001b[38;5;241m.\u001b[39mdefault, _encoder, \u001b[38;5;28mself\u001b[39m\u001b[38;5;241m.\u001b[39mindent, floatstr,\n\u001b[1;32m    255\u001b[0m         \u001b[38;5;28mself\u001b[39m\u001b[38;5;241m.\u001b[39mkey_separator, \u001b[38;5;28mself\u001b[39m\u001b[38;5;241m.\u001b[39mitem_separator, \u001b[38;5;28mself\u001b[39m\u001b[38;5;241m.\u001b[39msort_keys,\n\u001b[1;32m    256\u001b[0m         \u001b[38;5;28mself\u001b[39m\u001b[38;5;241m.\u001b[39mskipkeys, _one_shot)\n\u001b[0;32m--> 257\u001b[0m \u001b[38;5;28;01mreturn\u001b[39;00m \u001b[43m_iterencode\u001b[49m\u001b[43m(\u001b[49m\u001b[43mo\u001b[49m\u001b[43m,\u001b[49m\u001b[43m \u001b[49m\u001b[38;5;241;43m0\u001b[39;49m\u001b[43m)\u001b[49m\n",
      "\u001b[0;31mTypeError\u001b[0m: keys must be str, int, float, bool or None, not type"
     ]
    }
   ],
   "source": [
    "from lib import create_cube_selection_chain, fetch_cubes_descriptions, parse_all_cubes, fetch_cube_sample, fetch_dimensions_triplets\n",
    "\n",
    "cube_selection_settings = {\n",
    "    \"temperature\": 0.5,\n",
    "    \"top_p\": 0.5\n",
    "}\n",
    "cubes = fetch_cubes_descriptions()\n",
    "cube_selection_chain = create_cube_selection_chain(api_key=OPENAI_API_KEY, handler=handler, **cube_selection_settings)\n",
    "\n",
    "# question = f\"sum of emission of CO2 for industry between year 2009 and 2011\"\n",
    "question = f\"average of emission of Methane for transport between years 2007 and 2005\"\n",
    "\n",
    "cube_selection_response1 = await cube_selection_chain.ainvoke({\n",
    "    \"cubes\": cubes,\n",
    "    \"question\": question,\n",
    "})\n",
    "cube_selection_response = cube_selection_response1['text']\n",
    "\n",
    "logger.info(\"========== CUBES RESPONSE ================\")\n",
    "logger.info(f\"{cube_selection_response}\")"
   ]
  },
  {
   "cell_type": "code",
   "execution_count": null,
   "metadata": {},
   "outputs": [
    {
     "data": {
      "text/plain": [
       "{'cube_and_sample': '@prefix schema: <http://schema.org/> .\\n@prefix qudt: <http://qudt.org/schema/qudt/> .\\n@prefix sh: <http://www.w3.org/ns/shacl#> .\\n@prefix rdf: <http://www.w3.org/1999/02/22-rdf-syntax-ns#> .\\n@prefix rdfs: <http://www.w3.org/2000/01/rdf-schema#> .\\n@prefix cube: <https://cube.link/> .\\n\\n<https://environment.ld.admin.ch/foen/ubd000502/4> a cube:Cube ;\\n   cube:observationSet <https://environment.ld.admin.ch/foen/ubd000502/4/observation/> .\\n<https://environment.ld.admin.ch/foen/ubd000502/4/observation/> a cube:observationSet ;\\n   cube:observation <https://environment.ld.admin.ch/foen/ubd000502/4/observation/123/N2O/2012> .\\n<https://environment.ld.admin.ch/foen/ubd000502/4/observation/123/N2O/2012> a cube:Observation ;\\n   cube:observedBy <https://ld.admin.ch/office/VII.1.7> ;\\n   <https://environment.ld.admin.ch/foen/ubd000502/sektorid> <https://environment.ld.admin.ch/vocabulary/ghg_emission_sectors_co2_ordinance/123> ;\\n   <https://environment.ld.admin.ch/foen/ubd000502/gas> <https://ld.admin.ch/cube/dimension/pol01air/pol12> ;\\n   <https://environment.ld.admin.ch/foen/ubd000502/jahr> \"2012\"^^<http://www.w3.org/2001/XMLSchema#gYear> ;\\n   <https://environment.ld.admin.ch/foen/ubd000502/werte> 0.03 ;\\n   <https://environment.ld.admin.ch/foen/ubd000502/hierachie> \"123\" ;\\n   <https://environment.ld.admin.ch/foen/ubd000502/werteNichtGerundet> 0.0296699397569939 .',\n",
       " 'dimensions_triplets': '@prefix schema: <http://schema.org/> .\\n@prefix qudt: <http://qudt.org/schema/qudt/> .\\n@prefix sh: <http://www.w3.org/ns/shacl#> .\\n@prefix rdf: <http://www.w3.org/1999/02/22-rdf-syntax-ns#> .\\n@prefix rdfs: <http://www.w3.org/2000/01/rdf-schema#> .\\n@prefix cube: <https://cube.link/> .\\n\\n<https://environment.ld.admin.ch/vocabulary/ghg_emission_sectors_co2_ordinance/1> schema:name \"Switzerland’s greenhouse gas emissions\"@en .\\n<https://ld.admin.ch/cube/dimension/pol01air/pol11> schema:name \"Methane\"@en .\\n<https://environment.ld.admin.ch/vocabulary/ghg_emission_sectors_co2_ordinance/2> schema:name \"International aviation (not included in total)\"@en .\\n<https://ld.admin.ch/cube/dimension/pol01air/pol9> schema:name \"Carbon dioxide\"@en .\\n<https://environment.ld.admin.ch/vocabulary/ghg_emission_sectors_co2_ordinance/3> schema:name \"Balance of land use (not included in total)\"@en .\\n<https://environment.ld.admin.ch/vocabulary/ghg_emission_sectors_co2_ordinance/11> schema:name \"Buildings\"@en .\\n<https://environment.ld.admin.ch/vocabulary/ghg_emission_sectors_co2_ordinance/12> schema:name \"Transport\"@en .\\n<https://environment.ld.admin.ch/vocabulary/ghg_emission_sectors_co2_ordinance/13> schema:name \"Industry\"@en .\\n<https://environment.ld.admin.ch/vocabulary/ghg_emission_sectors_co2_ordinance/14> schema:name \"Other\"@en .\\n<https://environment.ld.admin.ch/vocabulary/ghg_emission_sectors_co2_ordinance/31> schema:name \"Forest land\"@en .\\n<https://environment.ld.admin.ch/vocabulary/ghg_emission_sectors_co2_ordinance/32> schema:name \"Cropland\"@en .\\n<https://environment.ld.admin.ch/vocabulary/ghg_emission_sectors_co2_ordinance/33> schema:name \"Grassland\"@en .\\n<https://environment.ld.admin.ch/vocabulary/ghg_emission_sectors_co2_ordinance/34> schema:name \"Wetlands\"@en .\\n<https://environment.ld.admin.ch/vocabulary/ghg_emission_sectors_co2_ordinance/35> schema:name \"Settlements\"@en .\\n<https://environment.ld.admin.ch/vocabulary/ghg_emission_sectors_co2_ordinance/36> schema:name \"Unproductive land\"@en .\\n<https://environment.ld.admin.ch/vocabulary/ghg_emission_sectors_co2_ordinance/37> schema:name \"Harvested wood products\"@en .\\n<https://environment.ld.admin.ch/vocabulary/ghg_emission_sectors_co2_ordinance/38> schema:name \"Leaching (N2O)\"@en .\\n<https://environment.ld.admin.ch/vocabulary/ghg_emission_sectors_co2_ordinance/111> schema:name \"Households\"@en .\\n<https://environment.ld.admin.ch/vocabulary/ghg_emission_sectors_co2_ordinance/112> schema:name \"Services\"@en .\\n<https://environment.ld.admin.ch/vocabulary/ghg_emission_sectors_co2_ordinance/121> schema:name \"National aviation\"@en .\\n<https://environment.ld.admin.ch/vocabulary/ghg_emission_sectors_co2_ordinance/122> schema:name \"Other transport\"@en .\\n<https://environment.ld.admin.ch/vocabulary/ghg_emission_sectors_co2_ordinance/123> schema:name \"Freight transport\"@en .\\n<https://environment.ld.admin.ch/vocabulary/ghg_emission_sectors_co2_ordinance/124> schema:name \"Passenger transport\"@en .\\n<https://environment.ld.admin.ch/vocabulary/ghg_emission_sectors_co2_ordinance/131> schema:name \"Industry (without waste incineration)\"@en .\\n<https://environment.ld.admin.ch/vocabulary/ghg_emission_sectors_co2_ordinance/132> schema:name \"Waste incineration\"@en .\\n<https://environment.ld.admin.ch/vocabulary/ghg_emission_sectors_co2_ordinance/141> schema:name \"Agriculture\"@en .\\n<https://environment.ld.admin.ch/vocabulary/ghg_emission_sectors_co2_ordinance/142> schema:name \"Waste\"@en .\\n<https://environment.ld.admin.ch/vocabulary/ghg_emission_sectors_co2_ordinance/143> schema:name \"Synthetic gases\"@en .\\n<https://environment.ld.admin.ch/vocabulary/ghg_emission_sectors_co2_ordinance/1421> schema:name \"Solid waste disposal\"@en .\\n<https://environment.ld.admin.ch/vocabulary/ghg_emission_sectors_co2_ordinance/1422> schema:name \"Wastewater treatment and discharge\"@en .\\n<https://environment.ld.admin.ch/vocabulary/ghg_emission_sectors_co2_ordinance/1423> schema:name \"Biological treatment of solid waste\"@en .\\n<https://environment.ld.admin.ch/vocabulary/ghg_emission_sectors_co2_ordinance/1424> schema:name \"Incineration and open burning of waste\"@en .\\n<https://ld.admin.ch/cube/dimension/pol01air/pol20> schema:name \"Hydrofluorocarbons\"@en .\\n<https://ld.admin.ch/cube/dimension/pol01air/pol12> schema:name \"Nitrous oxide\"@en .\\n<https://ld.admin.ch/cube/dimension/pol01air/pol15> schema:name \"Nitrogen trifluoride\"@en .\\n<https://ld.admin.ch/cube/dimension/pol01air/pol16> schema:name \"Perfluorocarbons\"@en .\\n<https://ld.admin.ch/cube/dimension/pol01air/pol14> schema:name \"Sulphur hexafluoride\"@en .\\n<https://ld.admin.ch/cube/dimension/testdimension/polgroup2> schema:name \"Synthetic gases\"@en .\\n<https://ld.admin.ch/cube/dimension/testdimension/test1> schema:name \"All greenhouse gas\"@en .',\n",
       " 'cube': '<https://environment.ld.admin.ch/foen/ubd000502/4>',\n",
       " 'question': 'average of emission of Methane for transport between years 2007 and 2005',\n",
       " 'text': 'PREFIX cube: <https://cube.link/>\\nPREFIX schema: <http://schema.org/>\\nPREFIX qudt: <http://qudt.org/schema/qudt/>\\nPREFIX sh: <http://www.w3.org/ns/shacl#>\\nPREFIX rdf: <http://www.w3.org/1999/02/22-rdf-syntax-ns#>\\nPREFIX rdfs: <http://www.w3.org/2000/01/rdf-schema#>\\nPREFIX xsd: <http://www.w3.org/2001/XMLSchema#>\\n\\nSELECT (AVG(?emission) AS ?averageEmission)\\nWHERE {\\n  <https://environment.ld.admin.ch/foen/ubd000502/4> a cube:Cube;\\n    cube:observationSet ?observationSet.\\n\\n  ?observationSet a cube:ObservationSet;\\n    cube:observation ?observation.\\n\\n  ?observation a cube:Observation;\\n    cube:observedBy ?observedBy;\\n    <https://environment.ld.admin.ch/foen/ubd000502/gas> <https://ld.admin.ch/cube/dimension/pol01air/pol11>;\\n    <https://environment.ld.admin.ch/foen/ubd000502/jahr> ?year;\\n    <https://environment.ld.admin.ch/foen/ubd000502/werte> ?emission.\\n\\n  FILTER (?year >= \"2005\"^^xsd:gYear && ?year <= \"2007\"^^xsd:gYear)\\n}\\nGROUP BY ?observedBy\\nORDER BY ?observedBy'}"
      ]
     },
     "execution_count": 19,
     "metadata": {},
     "output_type": "execute_result"
    }
   ],
   "source": [
    "await generation_chain.ainvoke({\n",
    "    \"cube_and_sample\": cube_and_sample,\n",
    "    \"dimensions_triplets\": dimensions_triplets,\n",
    "    \"cube\": selected_cube,\n",
    "    \"question\": question,\n",
    "})"
   ]
  },
  {
   "cell_type": "code",
   "execution_count": null,
   "metadata": {},
   "outputs": [
    {
     "name": "stderr",
     "output_type": "stream",
     "text": [
      "\u001b[32m2024-01-11 13:05:34.499\u001b[0m | \u001b[1mINFO    \u001b[0m | \u001b[36m__main__\u001b[0m:\u001b[36m<module>\u001b[0m:\u001b[36m4\u001b[0m - \u001b[1m========== SELECTED FIRST CUBE ================\u001b[0m\n",
      "\u001b[32m2024-01-11 13:05:34.500\u001b[0m | \u001b[1mINFO    \u001b[0m | \u001b[36m__main__\u001b[0m:\u001b[36m<module>\u001b[0m:\u001b[36m5\u001b[0m - \u001b[1m<https://environment.ld.admin.ch/foen/ubd000502/4>\u001b[0m\n"
     ]
    }
   ],
   "source": [
    "selected_cubes = parse_all_cubes(cube_selection_response)\n",
    "selected_cube = selected_cubes[0]\n",
    "\n",
    "logger.info(\"========== SELECTED FIRST CUBE ================\")\n",
    "logger.info(selected_cube)"
   ]
  },
  {
   "cell_type": "code",
   "execution_count": null,
   "metadata": {},
   "outputs": [
    {
     "name": "stdout",
     "output_type": "stream",
     "text": [
      "@prefix schema: <http://schema.org/> .\n",
      "@prefix qudt: <http://qudt.org/schema/qudt/> .\n",
      "@prefix sh: <http://www.w3.org/ns/shacl#> .\n",
      "@prefix rdf: <http://www.w3.org/1999/02/22-rdf-syntax-ns#> .\n",
      "@prefix rdfs: <http://www.w3.org/2000/01/rdf-schema#> .\n",
      "@prefix cube: <https://cube.link/> .\n",
      "\n",
      "<https://environment.ld.admin.ch/foen/ubd000502/4> a cube:Cube ;\n",
      "   cube:observationSet <https://environment.ld.admin.ch/foen/ubd000502/4/observation/> .\n",
      "<https://environment.ld.admin.ch/foen/ubd000502/4/observation/> a cube:observationSet ;\n",
      "   cube:observation <https://environment.ld.admin.ch/foen/ubd000502/4/observation/123/N2O/2012> .\n",
      "<https://environment.ld.admin.ch/foen/ubd000502/4/observation/123/N2O/2012> a cube:Observation ;\n",
      "   cube:observedBy <https://ld.admin.ch/office/VII.1.7> ;\n",
      "   <https://environment.ld.admin.ch/foen/ubd000502/sektorid> <https://environment.ld.admin.ch/vocabulary/ghg_emission_sectors_co2_ordinance/123> ;\n",
      "   <https://environment.ld.admin.ch/foen/ubd000502/gas> <https://ld.admin.ch/cube/dimension/pol01air/pol12> ;\n",
      "   <https://environment.ld.admin.ch/foen/ubd000502/jahr> \"2012\"^^<http://www.w3.org/2001/XMLSchema#gYear> ;\n",
      "   <https://environment.ld.admin.ch/foen/ubd000502/werte> 0.03 ;\n",
      "   <https://environment.ld.admin.ch/foen/ubd000502/hierachie> \"123\" ;\n",
      "   <https://environment.ld.admin.ch/foen/ubd000502/werteNichtGerundet> 0.0296699397569939 .\n"
     ]
    }
   ],
   "source": [
    "cube_and_sample = fetch_cube_sample(selected_cube)\n",
    "\n",
    "print(cube_and_sample)"
   ]
  },
  {
   "cell_type": "code",
   "execution_count": null,
   "metadata": {},
   "outputs": [
    {
     "name": "stdout",
     "output_type": "stream",
     "text": [
      "@prefix schema: <http://schema.org/> .\n",
      "@prefix qudt: <http://qudt.org/schema/qudt/> .\n",
      "@prefix sh: <http://www.w3.org/ns/shacl#> .\n",
      "@prefix rdf: <http://www.w3.org/1999/02/22-rdf-syntax-ns#> .\n",
      "@prefix rdfs: <http://www.w3.org/2000/01/rdf-schema#> .\n",
      "@prefix cube: <https://cube.link/> .\n",
      "\n",
      "<https://environment.ld.admin.ch/vocabulary/ghg_emission_sectors_co2_ordinance/1> schema:name \"Switzerland’s greenhouse gas emissions\"@en .\n",
      "<https://ld.admin.ch/cube/dimension/pol01air/pol11> schema:name \"Methane\"@en .\n",
      "<https://environment.ld.admin.ch/vocabulary/ghg_emission_sectors_co2_ordinance/2> schema:name \"International aviation (not included in total)\"@en .\n",
      "<https://ld.admin.ch/cube/dimension/pol01air/pol9> schema:name \"Carbon dioxide\"@en .\n",
      "<https://environment.ld.admin.ch/vocabulary/ghg_emission_sectors_co2_ordinance/3> schema:name \"Balance of land use (not included in total)\"@en .\n",
      "<https://environment.ld.admin.ch/vocabulary/ghg_emission_sectors_co2_ordinance/11> schema:name \"Buildings\"@en .\n",
      "<https://environment.ld.admin.ch/vocabulary/ghg_emission_sectors_co2_ordinance/12> schema:name \"Transport\"@en .\n",
      "<https://environment.ld.admin.ch/vocabulary/ghg_emission_sectors_co2_ordinance/13> schema:name \"Industry\"@en .\n",
      "<https://environment.ld.admin.ch/vocabulary/ghg_emission_sectors_co2_ordinance/14> schema:name \"Other\"@en .\n",
      "<https://environment.ld.admin.ch/vocabulary/ghg_emission_sectors_co2_ordinance/31> schema:name \"Forest land\"@en .\n",
      "<https://environment.ld.admin.ch/vocabulary/ghg_emission_sectors_co2_ordinance/32> schema:name \"Cropland\"@en .\n",
      "<https://environment.ld.admin.ch/vocabulary/ghg_emission_sectors_co2_ordinance/33> schema:name \"Grassland\"@en .\n",
      "<https://environment.ld.admin.ch/vocabulary/ghg_emission_sectors_co2_ordinance/34> schema:name \"Wetlands\"@en .\n",
      "<https://environment.ld.admin.ch/vocabulary/ghg_emission_sectors_co2_ordinance/35> schema:name \"Settlements\"@en .\n",
      "<https://environment.ld.admin.ch/vocabulary/ghg_emission_sectors_co2_ordinance/36> schema:name \"Unproductive land\"@en .\n",
      "<https://environment.ld.admin.ch/vocabulary/ghg_emission_sectors_co2_ordinance/37> schema:name \"Harvested wood products\"@en .\n",
      "<https://environment.ld.admin.ch/vocabulary/ghg_emission_sectors_co2_ordinance/38> schema:name \"Leaching (N2O)\"@en .\n",
      "<https://environment.ld.admin.ch/vocabulary/ghg_emission_sectors_co2_ordinance/111> schema:name \"Households\"@en .\n",
      "<https://environment.ld.admin.ch/vocabulary/ghg_emission_sectors_co2_ordinance/112> schema:name \"Services\"@en .\n",
      "<https://environment.ld.admin.ch/vocabulary/ghg_emission_sectors_co2_ordinance/121> schema:name \"National aviation\"@en .\n",
      "<https://environment.ld.admin.ch/vocabulary/ghg_emission_sectors_co2_ordinance/122> schema:name \"Other transport\"@en .\n",
      "<https://environment.ld.admin.ch/vocabulary/ghg_emission_sectors_co2_ordinance/123> schema:name \"Freight transport\"@en .\n",
      "<https://environment.ld.admin.ch/vocabulary/ghg_emission_sectors_co2_ordinance/124> schema:name \"Passenger transport\"@en .\n",
      "<https://environment.ld.admin.ch/vocabulary/ghg_emission_sectors_co2_ordinance/131> schema:name \"Industry (without waste incineration)\"@en .\n",
      "<https://environment.ld.admin.ch/vocabulary/ghg_emission_sectors_co2_ordinance/132> schema:name \"Waste incineration\"@en .\n",
      "<https://environment.ld.admin.ch/vocabulary/ghg_emission_sectors_co2_ordinance/141> schema:name \"Agriculture\"@en .\n",
      "<https://environment.ld.admin.ch/vocabulary/ghg_emission_sectors_co2_ordinance/142> schema:name \"Waste\"@en .\n",
      "<https://environment.ld.admin.ch/vocabulary/ghg_emission_sectors_co2_ordinance/143> schema:name \"Synthetic gases\"@en .\n",
      "<https://environment.ld.admin.ch/vocabulary/ghg_emission_sectors_co2_ordinance/1421> schema:name \"Solid waste disposal\"@en .\n",
      "<https://environment.ld.admin.ch/vocabulary/ghg_emission_sectors_co2_ordinance/1422> schema:name \"Wastewater treatment and discharge\"@en .\n",
      "<https://environment.ld.admin.ch/vocabulary/ghg_emission_sectors_co2_ordinance/1423> schema:name \"Biological treatment of solid waste\"@en .\n",
      "<https://environment.ld.admin.ch/vocabulary/ghg_emission_sectors_co2_ordinance/1424> schema:name \"Incineration and open burning of waste\"@en .\n",
      "<https://ld.admin.ch/cube/dimension/pol01air/pol20> schema:name \"Hydrofluorocarbons\"@en .\n",
      "<https://ld.admin.ch/cube/dimension/pol01air/pol12> schema:name \"Nitrous oxide\"@en .\n",
      "<https://ld.admin.ch/cube/dimension/pol01air/pol15> schema:name \"Nitrogen trifluoride\"@en .\n",
      "<https://ld.admin.ch/cube/dimension/pol01air/pol16> schema:name \"Perfluorocarbons\"@en .\n",
      "<https://ld.admin.ch/cube/dimension/pol01air/pol14> schema:name \"Sulphur hexafluoride\"@en .\n",
      "<https://ld.admin.ch/cube/dimension/testdimension/polgroup2> schema:name \"Synthetic gases\"@en .\n",
      "<https://ld.admin.ch/cube/dimension/testdimension/test1> schema:name \"All greenhouse gas\"@en .\n"
     ]
    }
   ],
   "source": [
    "dimensions_triplets = fetch_dimensions_triplets(selected_cube)\n",
    "\n",
    "print(dimensions_triplets)"
   ]
  },
  {
   "cell_type": "code",
   "execution_count": null,
   "metadata": {},
   "outputs": [
    {
     "name": "stderr",
     "output_type": "stream",
     "text": [
      "WARNING! top_p is not default parameter.\n",
      "                    top_p was transferred to model_kwargs.\n",
      "                    Please confirm that top_p is what you intended.\n"
     ]
    },
    {
     "name": "stderr",
     "output_type": "stream",
     "text": [
      "\u001b[32m2024-01-11 17:53:10.523\u001b[0m | \u001b[1mINFO    \u001b[0m | \u001b[36m__main__\u001b[0m:\u001b[36m<module>\u001b[0m:\u001b[36m18\u001b[0m - \u001b[1m========== QUERY GENERATION RESPONSE ================\u001b[0m\n",
      "\u001b[32m2024-01-11 17:53:10.524\u001b[0m | \u001b[1mINFO    \u001b[0m | \u001b[36m__main__\u001b[0m:\u001b[36m<module>\u001b[0m:\u001b[36m19\u001b[0m - \u001b[1mTo answer the question \"average of emission of Methane for transport between years 2007 and 2005\" for the cube `<https://environment.ld.admin.ch/foen/ubd000502/4>`, we need to modify the query to filter observations by the gas \"Methane\" and the sector \"Transport\" for the years 2005 to 2007. We also need to calculate the average of the emissions. Here's how you can modify the query:\n",
      "\n",
      "```sparql\n",
      "PREFIX cube: <https://cube.link/>\n",
      "PREFIX schema: <http://schema.org/>\n",
      "PREFIX qudt: <http://qudt.org/schema/qudt/>\n",
      "PREFIX sh: <http://www.w3.org/ns/shacl#>\n",
      "PREFIX rdf: <http://www.w3.org/1999/02/22-rdf-syntax-ns#>\n",
      "PREFIX rdfs: <http://www.w3.org/2000/01/rdf-schema#>\n",
      "PREFIX xsd: <http://www.w3.org/2001/XMLSchema#>\n",
      "\n",
      "SELECT (AVG(?value) AS ?averageEmission)\n",
      "WHERE {\n",
      "    <https://environment.ld.admin.ch/foen/ubd000502/4> a cube:Cube;\n",
      "        cube:observationSet ?observationSet.\n",
      "\n",
      "    ?observationSet a cube:ObservationSet;\n",
      "        cube:observation ?observation.\n",
      "\n",
      "    ?observation a cube:Observation;\n",
      "        <https://environment.ld.admin.ch/foen/ubd000502/gas> <https://ld.admin.ch/cube/dimension/pol01air/pol11>;\n",
      "        <https://environment.ld.admin.ch/foen/ubd000502/sektorid> <https://environment.ld.admin.ch/vocabulary/ghg_emission_sectors_co2_ordinance/12>;\n",
      "        <https://environment.ld.admin.ch/foen/ubd000502/jahr> ?year;\n",
      "        <https://environment.ld.admin.ch/foen/ubd000502/werte> ?value.\n",
      "\n",
      "    FILTER (xsd:gYear(?year) >= \"2005\"^^xsd:gYear && xsd:gYear(?year) <= \"2007\"^^xsd:gYear)\n",
      "}\n",
      "```\n",
      "\n",
      "Please note that the URIs for the gas \"Methane\" and the sector \"Transport\" are assumed to be `<https://ld.admin.ch/cube/dimension/pol01air/pol11>` and `<https://environment.ld.admin.ch/vocabulary/ghg_emission_sectors_co2_ordinance/12>` respectively, based on the provided dimension labels. Adjust these URIs if necessary to match the actual URIs used in the dataset.\n",
      "\n",
      "This query will calculate the average emission value (`?averageEmission`) of Methane for the Transport sector between the years 2005 and 2007. The `FILTER` clause restricts the years to the desired range, and the `AVG` function computes the average of the emission values.\u001b[0m\n"
     ]
    }
   ],
   "source": [
    "from lib import create_query_generation_chain\n",
    "\n",
    "query_generation_settings = {\n",
    "    \"temperature\": 0.15,\n",
    "    \"top_p\": 0.1\n",
    "}\n",
    "\n",
    "generation_chain = create_query_generation_chain(api_key=OPENAI_API_KEY, handler=handler, **query_generation_settings)\n",
    "\n",
    "query_generation_response = await generation_chain.ainvoke({\n",
    "    \"cube_and_sample\": cube_and_sample,\n",
    "    \"dimensions_triplets\": dimensions_triplets,\n",
    "    \"cube\": selected_cube,\n",
    "    \"question\": question,\n",
    "})\n",
    "query_generation_response = query_generation_response['text']\n",
    "\n",
    "logger.info(\"========== QUERY GENERATION RESPONSE ================\")\n",
    "logger.info(f\"{query_generation_response}\")"
   ]
  },
  {
   "cell_type": "code",
   "execution_count": null,
   "metadata": {},
   "outputs": [
    {
     "name": "stderr",
     "output_type": "stream",
     "text": [
      "\u001b[32m2024-01-11 13:15:16.575\u001b[0m | \u001b[1mINFO    \u001b[0m | \u001b[36m__main__\u001b[0m:\u001b[36m<module>\u001b[0m:\u001b[36m5\u001b[0m - \u001b[1m=========== QUERY RESULT ============\u001b[0m\n",
      "\u001b[32m2024-01-11 13:15:16.578\u001b[0m | \u001b[1mINFO    \u001b[0m | \u001b[36m__main__\u001b[0m:\u001b[36m<module>\u001b[0m:\u001b[36m6\u001b[0m - \u001b[1m{'head': {'vars': ['averageEmission']}, 'results': {'bindings': [{'averageEmission': {'datatype': 'http://www.w3.org/2001/XMLSchema#double', 'type': 'literal', 'value': '0.63535825'}}]}}\u001b[0m\n"
     ]
    }
   ],
   "source": [
    "from lib import run_query\n",
    "\n",
    "result = run_query(query_generation_response)\n",
    "\n",
    "logger.info(\"=========== QUERY RESULT ============\")\n",
    "logger.info(result)"
   ]
  }
 ],
 "metadata": {
  "kernelspec": {
   "display_name": ".venv",
   "language": "python",
   "name": "python3"
  },
  "language_info": {
   "codemirror_mode": {
    "name": "ipython",
    "version": 3
   },
   "file_extension": ".py",
   "mimetype": "text/x-python",
   "name": "python",
   "nbconvert_exporter": "python",
   "pygments_lexer": "ipython3",
   "version": "3.10.6"
  },
  "orig_nbformat": 4
 },
 "nbformat": 4,
 "nbformat_minor": 2
}
