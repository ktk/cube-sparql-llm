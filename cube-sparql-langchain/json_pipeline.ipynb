{
 "cells": [
  {
   "cell_type": "code",
   "execution_count": 1,
   "metadata": {},
   "outputs": [],
   "source": [
    "import os\n",
    "import json\n",
    "from dotenv import load_dotenv\n",
    "from lib import fetch_cubes_descriptions, fetch_cube_sample, fetch_dimensions_triplets\n",
    "from openai._client import OpenAI\n",
    "\n",
    "load_dotenv()\n",
    "\n",
    "OPENAI_API_KEY = os.getenv('OPENAI_API_KEY')"
   ]
  },
  {
   "cell_type": "code",
   "execution_count": 2,
   "metadata": {},
   "outputs": [],
   "source": [
    "client = OpenAI(api_key = OPENAI_API_KEY)"
   ]
  },
  {
   "cell_type": "code",
   "execution_count": 3,
   "metadata": {},
   "outputs": [],
   "source": [
    "cubes = fetch_cubes_descriptions()\n",
    "question = f\"average of emission of Methane for transport between years 2007 and 2005\"\n",
    "\n",
    "cubes_description = \"\"\"\n",
    "Given following data cubes with its labels and description:\n",
    "{cubes}\"\"\".format(cubes=cubes)\n",
    "\n",
    "human_template = \"Select a cube, which would be best to answer following question: {question}. Return cube ID.\".format(question=question)"
   ]
  },
  {
   "cell_type": "code",
   "execution_count": 4,
   "metadata": {},
   "outputs": [
    {
     "name": "stdout",
     "output_type": "stream",
     "text": [
      "{'cubeId': 'https://environment.ld.admin.ch/foen/ubd000502/4'}\n"
     ]
    }
   ],
   "source": [
    "for i in range(0,1):\n",
    "  response = client.chat.completions.create(\n",
    "    model=\"gpt-3.5-turbo-1106\",\n",
    "    response_format={ \"type\": \"json_object\" },\n",
    "    temperature= 0.5,\n",
    "    messages=[\n",
    "      {\"role\": \"system\", \"content\": \"You are a helpful assistant designed to output JSON.\"},\n",
    "      {\"role\": \"system\", \"content\": cubes_description},\n",
    "      {\"role\": \"user\", \"content\": human_template}\n",
    "    ]\n",
    "  )\n",
    "  content = json.loads(response.choices[0].message.content)\n",
    "  print(content)\n"
   ]
  },
  {
   "cell_type": "code",
   "execution_count": 5,
   "metadata": {},
   "outputs": [
    {
     "name": "stdout",
     "output_type": "stream",
     "text": [
      "@prefix schema: <http://schema.org/> .\n",
      "@prefix qudt: <http://qudt.org/schema/qudt/> .\n",
      "@prefix sh: <http://www.w3.org/ns/shacl#> .\n",
      "@prefix rdf: <http://www.w3.org/1999/02/22-rdf-syntax-ns#> .\n",
      "@prefix rdfs: <http://www.w3.org/2000/01/rdf-schema#> .\n",
      "@prefix cube: <https://cube.link/> .\n",
      "\n",
      "<https://environment.ld.admin.ch/foen/ubd000502/4> a cube:Cube ;\n",
      "   cube:observationSet <https://environment.ld.admin.ch/foen/ubd000502/4/observation/> .\n",
      "<https://environment.ld.admin.ch/foen/ubd000502/4/observation/> a cube:observationSet ;\n",
      "   cube:observation <https://environment.ld.admin.ch/foen/ubd000502/4/observation/32/CH4/2009> .\n",
      "<https://environment.ld.admin.ch/foen/ubd000502/4/observation/32/CH4/2009> a cube:Observation ;\n",
      "   cube:observedBy <https://ld.admin.ch/office/VII.1.7> ;\n",
      "   <https://environment.ld.admin.ch/foen/ubd000502/sektorid> <https://environment.ld.admin.ch/vocabulary/ghg_emission_sectors_co2_ordinance/32> ;\n",
      "   <https://environment.ld.admin.ch/foen/ubd000502/gas> <https://ld.admin.ch/cube/dimension/pol01air/pol11> ;\n",
      "   <https://environment.ld.admin.ch/foen/ubd000502/jahr> \"2009\"^^<http://www.w3.org/2001/XMLSchema#gYear> ;\n",
      "   <https://environment.ld.admin.ch/foen/ubd000502/werte> 0.0 ;\n",
      "   <https://environment.ld.admin.ch/foen/ubd000502/hierachie> \"32\" ;\n",
      "   <https://environment.ld.admin.ch/foen/ubd000502/werteNichtGerundet> 0.0 .\n"
     ]
    }
   ],
   "source": [
    "selected_cube = \"<\" +list(content.values())[0] + \">\"\n",
    "cube_and_sample = fetch_cube_sample( selected_cube )\n",
    "print(cube_and_sample)"
   ]
  },
  {
   "cell_type": "code",
   "execution_count": 6,
   "metadata": {},
   "outputs": [
    {
     "name": "stdout",
     "output_type": "stream",
     "text": [
      "@prefix schema: <http://schema.org/> .\n",
      "@prefix qudt: <http://qudt.org/schema/qudt/> .\n",
      "@prefix sh: <http://www.w3.org/ns/shacl#> .\n",
      "@prefix rdf: <http://www.w3.org/1999/02/22-rdf-syntax-ns#> .\n",
      "@prefix rdfs: <http://www.w3.org/2000/01/rdf-schema#> .\n",
      "@prefix cube: <https://cube.link/> .\n",
      "\n",
      "<https://environment.ld.admin.ch/vocabulary/ghg_emission_sectors_co2_ordinance/1> schema:name \"Switzerland’s greenhouse gas emissions\"@en .\n",
      "<https://ld.admin.ch/cube/dimension/pol01air/pol11> schema:name \"Methane\"@en .\n",
      "<https://environment.ld.admin.ch/vocabulary/ghg_emission_sectors_co2_ordinance/2> schema:name \"International aviation (not included in total)\"@en .\n",
      "<https://ld.admin.ch/cube/dimension/pol01air/pol9> schema:name \"Carbon dioxide\"@en .\n",
      "<https://environment.ld.admin.ch/vocabulary/ghg_emission_sectors_co2_ordinance/3> schema:name \"Balance of land use (not included in total)\"@en .\n",
      "<https://environment.ld.admin.ch/vocabulary/ghg_emission_sectors_co2_ordinance/11> schema:name \"Buildings\"@en .\n",
      "<https://environment.ld.admin.ch/vocabulary/ghg_emission_sectors_co2_ordinance/12> schema:name \"Transport\"@en .\n",
      "<https://environment.ld.admin.ch/vocabulary/ghg_emission_sectors_co2_ordinance/13> schema:name \"Industry\"@en .\n",
      "<https://environment.ld.admin.ch/vocabulary/ghg_emission_sectors_co2_ordinance/14> schema:name \"Other\"@en .\n",
      "<https://environment.ld.admin.ch/vocabulary/ghg_emission_sectors_co2_ordinance/31> schema:name \"Forest land\"@en .\n",
      "<https://environment.ld.admin.ch/vocabulary/ghg_emission_sectors_co2_ordinance/32> schema:name \"Cropland\"@en .\n",
      "<https://environment.ld.admin.ch/vocabulary/ghg_emission_sectors_co2_ordinance/33> schema:name \"Grassland\"@en .\n",
      "<https://environment.ld.admin.ch/vocabulary/ghg_emission_sectors_co2_ordinance/34> schema:name \"Wetlands\"@en .\n",
      "<https://environment.ld.admin.ch/vocabulary/ghg_emission_sectors_co2_ordinance/35> schema:name \"Settlements\"@en .\n",
      "<https://environment.ld.admin.ch/vocabulary/ghg_emission_sectors_co2_ordinance/36> schema:name \"Unproductive land\"@en .\n",
      "<https://environment.ld.admin.ch/vocabulary/ghg_emission_sectors_co2_ordinance/37> schema:name \"Harvested wood products\"@en .\n",
      "<https://environment.ld.admin.ch/vocabulary/ghg_emission_sectors_co2_ordinance/38> schema:name \"Leaching (N2O)\"@en .\n",
      "<https://environment.ld.admin.ch/vocabulary/ghg_emission_sectors_co2_ordinance/111> schema:name \"Households\"@en .\n",
      "<https://environment.ld.admin.ch/vocabulary/ghg_emission_sectors_co2_ordinance/112> schema:name \"Services\"@en .\n",
      "<https://environment.ld.admin.ch/vocabulary/ghg_emission_sectors_co2_ordinance/121> schema:name \"National aviation\"@en .\n",
      "<https://environment.ld.admin.ch/vocabulary/ghg_emission_sectors_co2_ordinance/122> schema:name \"Other transport\"@en .\n",
      "<https://environment.ld.admin.ch/vocabulary/ghg_emission_sectors_co2_ordinance/123> schema:name \"Freight transport\"@en .\n",
      "<https://environment.ld.admin.ch/vocabulary/ghg_emission_sectors_co2_ordinance/124> schema:name \"Passenger transport\"@en .\n",
      "<https://environment.ld.admin.ch/vocabulary/ghg_emission_sectors_co2_ordinance/131> schema:name \"Industry (without waste incineration)\"@en .\n",
      "<https://environment.ld.admin.ch/vocabulary/ghg_emission_sectors_co2_ordinance/132> schema:name \"Waste incineration\"@en .\n",
      "<https://environment.ld.admin.ch/vocabulary/ghg_emission_sectors_co2_ordinance/141> schema:name \"Agriculture\"@en .\n",
      "<https://environment.ld.admin.ch/vocabulary/ghg_emission_sectors_co2_ordinance/142> schema:name \"Waste\"@en .\n",
      "<https://environment.ld.admin.ch/vocabulary/ghg_emission_sectors_co2_ordinance/143> schema:name \"Synthetic gases\"@en .\n",
      "<https://environment.ld.admin.ch/vocabulary/ghg_emission_sectors_co2_ordinance/1421> schema:name \"Solid waste disposal\"@en .\n",
      "<https://environment.ld.admin.ch/vocabulary/ghg_emission_sectors_co2_ordinance/1422> schema:name \"Wastewater treatment and discharge\"@en .\n",
      "<https://environment.ld.admin.ch/vocabulary/ghg_emission_sectors_co2_ordinance/1423> schema:name \"Biological treatment of solid waste\"@en .\n",
      "<https://environment.ld.admin.ch/vocabulary/ghg_emission_sectors_co2_ordinance/1424> schema:name \"Incineration and open burning of waste\"@en .\n",
      "<https://ld.admin.ch/cube/dimension/pol01air/pol20> schema:name \"Hydrofluorocarbons\"@en .\n",
      "<https://ld.admin.ch/cube/dimension/pol01air/pol12> schema:name \"Nitrous oxide\"@en .\n",
      "<https://ld.admin.ch/cube/dimension/pol01air/pol15> schema:name \"Nitrogen trifluoride\"@en .\n",
      "<https://ld.admin.ch/cube/dimension/pol01air/pol16> schema:name \"Perfluorocarbons\"@en .\n",
      "<https://ld.admin.ch/cube/dimension/pol01air/pol14> schema:name \"Sulphur hexafluoride\"@en .\n",
      "<https://ld.admin.ch/cube/dimension/testdimension/polgroup2> schema:name \"Synthetic gases\"@en .\n",
      "<https://ld.admin.ch/cube/dimension/testdimension/test1> schema:name \"All greenhouse gas\"@en .\n"
     ]
    }
   ],
   "source": [
    "dimensions_triplets = fetch_dimensions_triplets(selected_cube)\n",
    "\n",
    "print(dimensions_triplets)"
   ]
  },
  {
   "cell_type": "code",
   "execution_count": 8,
   "metadata": {},
   "outputs": [
    {
     "data": {
      "text/plain": [
       "{'error': 'The provided SPARQL query is invalid. Please correct the query and try again.'}"
      ]
     },
     "execution_count": 8,
     "metadata": {},
     "output_type": "execute_result"
    }
   ],
   "source": [
    "content"
   ]
  },
  {
   "cell_type": "code",
   "execution_count": 50,
   "metadata": {},
   "outputs": [
    {
     "name": "stdout",
     "output_type": "stream",
     "text": [
      "{'query': 'PREFIX cube: <https://cube.link/> PREFIX schema: <http://schema.org/> PREFIX qudt: <http://qudt.org/schema/qudt/> PREFIX sh: <http://www.w3.org/ns/shacl#> PREFIX rdf: <http://www.w3.org/1999/02/22-rdf-syntax-ns#> PREFIX rdfs: <http://www.w3.org/2000/01/rdf-schema#> PREFIX xsd: <http://www.w3.org/2001/XMLSchema#> SELECT (AVG(?value) AS ?averageEmission) WHERE { <https://environment.ld.admin.ch/foen/ubd000502/4> a cube:Cube; cube:observationSet ?observationSet. ?observationSet a cube:ObservationSet; cube:observation ?observation. ?observation a cube:Observation; <https://environment.ld.admin.ch/foen/ubd000502/gas> <https://ld.admin.ch/cube/dimension/pol01air/pol11>; <https://environment.ld.admin.ch/foen/ubd000502/jahr> ?year; <https://environment.ld.admin.ch/foen/ubd000502/werte> ?value. FILTER (?year >= \"2005\"^^xsd:gYear && ?year <= \"2007\"^^xsd:gYear) }'}\n"
     ]
    }
   ],
   "source": [
    "sample_description = \"\"\"\n",
    "Given cube and its sample observation:\n",
    "{cube_and_sample}\n",
    "\"\"\".format(cube_and_sample = cube_and_sample)\n",
    "\n",
    "structure_description = \"\"\"\n",
    "Dimensions labels:\n",
    "{dimensions_triplets}\n",
    "\"\"\".format(dimensions_triplets=dimensions_triplets)\n",
    "\n",
    "query_template = \"\"\"\n",
    "Sample query:\n",
    "    PREFIX cube: <https://cube.link/>\n",
    "    PREFIX schema: <http://schema.org/>\n",
    "    PREFIX qudt: <http://qudt.org/schema/qudt/>\n",
    "    PREFIX sh: <http://www.w3.org/ns/shacl#>\n",
    "    PREFIX rdf: <http://www.w3.org/1999/02/22-rdf-syntax-ns#>\n",
    "    PREFIX rdfs: <http://www.w3.org/2000/01/rdf-schema#>\n",
    "    PREFIX xsd: <http://www.w3.org/2001/XMLSchema#>\n",
    "\n",
    "    SELECT *\n",
    "    WHERE {{\n",
    "    {cube} a cube:Cube;\n",
    "        cube:observationSet ?observationSet.\n",
    "\n",
    "    ?observationSet a cube:ObservationSet;\n",
    "        cube:observation ?observation.\n",
    "\n",
    "    ?observation a cube:Observation.\n",
    "    }}\n",
    "\"\"\".format(cube=selected_cube)\n",
    "\n",
    "\n",
    "human_template = f\"Modify sample query to answer following question: \\n{question} using cube: {selected_cube}\"\n",
    "\n",
    "\n",
    "response = client.chat.completions.create(\n",
    "  model=\"gpt-3.5-turbo-1106\",\n",
    "  response_format={ \"type\": \"json_object\" },\n",
    "  temperature=0.15,\n",
    "  top_p=0.1,\n",
    "  messages=[\n",
    "    {\"role\": \"system\", \"content\": \"You are a helpful assistant designed to output JSON.\"},\n",
    "    {\"role\": \"system\", \"content\": sample_description},\n",
    "    {\"role\": \"system\", \"content\": structure_description},\n",
    "    {\"role\": \"system\", \"content\": query_template},\n",
    "    {\"role\": \"user\", \"content\": human_template}\n",
    "  ]\n",
    ")\n",
    "content = json.loads(response.choices[0].message.content)\n",
    "print(content)"
   ]
  }
 ],
 "metadata": {
  "kernelspec": {
   "display_name": "venv",
   "language": "python",
   "name": "python3"
  },
  "language_info": {
   "codemirror_mode": {
    "name": "ipython",
    "version": 3
   },
   "file_extension": ".py",
   "mimetype": "text/x-python",
   "name": "python",
   "nbconvert_exporter": "python",
   "pygments_lexer": "ipython3",
   "version": "3.10.6"
  }
 },
 "nbformat": 4,
 "nbformat_minor": 2
}
